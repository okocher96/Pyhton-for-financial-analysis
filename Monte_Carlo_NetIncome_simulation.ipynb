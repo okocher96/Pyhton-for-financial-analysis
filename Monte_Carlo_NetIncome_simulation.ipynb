{
 "cells": [
  {
   "cell_type": "code",
   "execution_count": 276,
   "metadata": {},
   "outputs": [
    {
     "name": "stdout",
     "output_type": "stream",
     "text": [
      "Note: The underlying assumption is that user inputs forecasted revenue in million of dollars scaling! \n",
      "\n",
      "Please, provide forecasted revenue: \n",
      "300\n",
      "Please, provide forecasted revenue deviation (in this case, provide percentage please): \n",
      "30\n",
      "Please, provide forecasted COGS, % : \n",
      "50\n",
      "Please, provide forecasted COGS deviation, % : \n",
      "30\n",
      "Please, provide forecasted operational expenses, %: \n",
      "30\n",
      "Please, provide forecasted operational expenses deviation, %: \n",
      "30\n",
      "Please, provide other forecasted expenses, %: \n",
      "10\n",
      "Please, provide forecasted tax rate, %: \n",
      "30\n"
     ]
    },
    {
     "data": {
      "image/png": "[encoded data removed]",
      "text/plain": [
       "<Figure size 720x360 with 1 Axes>"
      ]
     },
     "metadata": {
      "needs_background": "light"
     },
     "output_type": "display_data"
    },
    {
     "name": "stdout",
     "output_type": "stream",
     "text": [
      "The mean net profit after 5000 simulations is:  20.16 $ \n",
      "\n",
      "Minimum possible net profit (worst-case scenario) after 5000 simulations is:  -293.71 $ \n",
      "\n",
      "Maximum possible net profit (best-case scenario) after 5000 simulations is:  343.08 $ \n",
      "\n",
      "Without applying the model, the expected net profit would be 21.0 $ \n",
      "\n"
     ]
    }
   ],
   "source": [
    "# Basic program that uses Monte Carlo simulations to perform sensitivity analysis to predict EBITDA.\n",
    "# It takes predictions as an input and then predicts EBITDA\n",
    "# Monte Carlo simulations are performed based on assumption that net profit distribution follows a normal one, since \n",
    "# the number of simulations is way more than 40.\n",
    "\n",
    "#importing needed libraries\n",
    "import numpy as np\n",
    "import matplotlib.pyplot as plt\n",
    "\n",
    "#declaring needed variables\n",
    "n = 100\n",
    "monte_list1 = []\n",
    "\n",
    "\n",
    "#asking user/manager to provide the program with required predictions\n",
    "#such as revenue, revenue standard deviation, COGS and its deviation, operations expenses and its deviation\n",
    "# and tax rate as well\n",
    "\n",
    "print(\"Note: The underlying assumption is that user inputs forecasted revenue in million of dollars scaling! \\n\")\n",
    "rev = int(input('Please, provide forecasted revenue: \\n'))\n",
    "rev_std = int(input('Please, provide forecasted revenue deviation (in this case, provide percentage please): \\n'))\n",
    "\n",
    "#getting percentage inputs and turning them into decimals for calculation purposes\n",
    "COGS= float(input('Please, provide forecasted COGS, % : \\n'))\n",
    "COGS = COGS/100\n",
    "\n",
    "COGS_std = float(input('Please, provide forecasted COGS deviation, % : \\n'))\n",
    "COGS_std = COGS_std/100\n",
    "\n",
    "oper= float(input('Please, provide forecasted operational expenses, %: \\n'))\n",
    "oper = oper/100\n",
    "\n",
    "oper_std = float(input('Please, provide forecasted operational expenses deviation, %: \\n'))\n",
    "oper_std = oper_std/100\n",
    "\n",
    "other_exp = float(input('Please, provide other forecasted expenses, %: \\n'))\n",
    "other_exp = other_exp/100\n",
    "\n",
    "tax = float(input('Please, provide forecasted tax rate, %: \\n'))\n",
    "tax = tax/100\n",
    "\n",
    "\n",
    "#main function, respobsible for performing Monte Carlo simulations\n",
    "def simulations(q):\n",
    "\n",
    "    #function that takes # of iterations as input and then perform that number of Monte Carlo simulations inside;\n",
    "    \n",
    "    def monte_carlo_net(ite):\n",
    "\n",
    "        rev1 = np.random.normal(rev, rev_std, ite)         #revenue modelling\n",
    "\n",
    "        COGS_est = (rev1 * np.random.normal(COGS, COGS_std)) #COGS modelling\n",
    "\n",
    "        Gross_profit = rev1 - COGS_est                       #gross profit modelling based on rev and COGS results\n",
    "\n",
    "        oper_est  = (rev1 * np.random.normal(oper, oper_std)) #operations expense modelling\n",
    "\n",
    "        EBITDA = Gross_profit - oper_est                    #EBITDA modelling\n",
    "\n",
    "        net_profit = (1 - tax) * (EBITDA - (other_exp*rev1)) #net profit modelling\n",
    "\n",
    "        return net_profit.mean()                            #returns the mean of all given # of iterations' results\n",
    "\n",
    "    \n",
    "    #calculations of mean of the list\n",
    "    def Average(l): \n",
    "        return sum(l) / len(l)    \n",
    "\n",
    "\n",
    "    #function that performs another loop of operations using monte_carlo_net function output to get more precise results\n",
    "    def monte_sim1(n):\n",
    "        for i in range(n):\n",
    "            a = monte_carlo_net(ite)\n",
    "            monte_list1.append(a)\n",
    "\n",
    "            \n",
    "            \n",
    "    #start of running program; calculation performed in monte_carlo_net are passed into monte_sim1, then getting into\n",
    "    #this loop; all of the above operations give a pretty reliable precision\n",
    "    \n",
    "    for i in range(100):\n",
    "        monte_sim1(n)\n",
    "    \n",
    "    #plotting expected profit distribution via histogram \n",
    "    plt.figure(figsize = (10,5))\n",
    "    plt.hist(monte_list1, bins = 30)\n",
    "    plt.xlabel(\"Expected net profit\", size = 12)\n",
    "    plt.ylabel(\"Frequency\", size = 12)\n",
    "    plt.title(\"Net profit with Monte Carlo simulations estimations\", fontsize=17, color='black', style='italic' )\n",
    "    plt.show()\n",
    "\n",
    "    #returns average, max and min results of the simulation results\n",
    "    return Average(monte_list1), min(monte_list1), max(monte_list1)\n",
    "\n",
    "\n",
    "\n",
    "#returns results and graph for 5000 Monte Carlo simulations\n",
    "store_values = simulations(5000)\n",
    "\n",
    "#prints the expected result that is based just on initial predictions, not subject to simulations\n",
    "exp_res = (rev - COGS*rev - oper*rev - rev * other_exp) * (1-tax)\n",
    "\n",
    "#prints mean, min and max results, as well as exp_res\n",
    "print(\"The mean net profit after 5000 simulations is: \", round(store_values[0], 2), \"$ \\n\")\n",
    "print(\"Minimum possible net profit (worst-case scenario) after 5000 simulations is: \", round(store_values[1], 2), \"$ \\n\")\n",
    "print(\"Maximum possible net profit (best-case scenario) after 5000 simulations is: \", round(store_values[2], 2), \"$ \\n\")\n",
    "\n",
    "print(\"Without applying the model, the expected net profit would be\", round(exp_res,2),\"$ \\n\")\n",
    "\n"
   ]
  },
  {
   "cell_type": "code",
   "execution_count": 266,
   "metadata": {},
   "outputs": [
    {
     "data": {
      "text/plain": [
       "21.0"
      ]
     },
     "execution_count": 266,
     "metadata": {},
     "output_type": "execute_result"
    }
   ],
   "source": [
    "exp_res = (rev - COGS*rev - oper*rev - rev * other_exp) * (1-tax)\n",
    "exp_res"
   ]
  },
  {
   "cell_type": "code",
   "execution_count": null,
   "metadata": {},
   "outputs": [],
   "source": []
  }
 ],
 "metadata": {
  "kernelspec": {
   "display_name": "Python 3",
   "language": "python",
   "name": "python3"
  },
  "language_info": {
   "codemirror_mode": {
    "name": "ipython",
    "version": 3
   },
   "file_extension": ".py",
   "mimetype": "text/x-python",
   "name": "python",
   "nbconvert_exporter": "python",
   "pygments_lexer": "ipython3",
   "version": "3.7.6"
  }
 },
 "nbformat": 4,
 "nbformat_minor": 4
}
